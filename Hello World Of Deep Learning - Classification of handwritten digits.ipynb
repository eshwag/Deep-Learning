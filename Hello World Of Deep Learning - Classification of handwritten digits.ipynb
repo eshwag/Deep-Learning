{
 "cells": [
  {
   "cell_type": "markdown",
   "metadata": {},
   "source": [
    "### In this notebook we will classify grayscale images of handwritten digits (28 × 28 pixels) into their 10 categories (0 through 9) using MNIST dataset from keras package"
   ]
  },
  {
   "cell_type": "code",
   "execution_count": 18,
   "metadata": {
    "collapsed": true
   },
   "outputs": [],
   "source": [
    "# Import required libraries/packages\n",
    "import numpy as np\n",
    "from keras.datasets import mnist\n",
    "from keras.utils import to_categorical\n",
    "from keras import models\n",
    "from keras import layers\n"
   ]
  },
  {
   "cell_type": "code",
   "execution_count": 2,
   "metadata": {
    "collapsed": true
   },
   "outputs": [],
   "source": [
    "(train_images, train_labels) , (test_images, test_labels) = mnist.load_data()"
   ]
  },
  {
   "cell_type": "markdown",
   "metadata": {},
   "source": [
    "* The train_images & train_labels together form training data set, the data that the model will learn from. The Model is then tested on test data set - test_images & test_labels. The images are encoded as Numpy arrays & labels are an array of digits ranging from 0 - 9"
   ]
  },
  {
   "cell_type": "code",
   "execution_count": 8,
   "metadata": {},
   "outputs": [
    {
     "name": "stdout",
     "output_type": "stream",
     "text": [
      "Train data dimension = (60000, 28, 28)\n",
      "Test data dimension = (10000, 28, 28)\n",
      "Train labels = (60000,)\n",
      "Test labels = (10000,)\n"
     ]
    }
   ],
   "source": [
    "print(\"Train data dimension =\", train_images.shape)\n",
    "print(\"Test data dimension =\", test_images.shape)\n",
    "print(\"Train labels =\", train_labels.shape)\n",
    "print(\"Test labels =\", test_labels.shape)"
   ]
  },
  {
   "cell_type": "markdown",
   "metadata": {},
   "source": [
    "### Data Pre-processing\n",
    "* reshape input data in the format the network expects\n",
    "* Scale the input data\n",
    "* Categorical encoding of the labels"
   ]
  },
  {
   "cell_type": "code",
   "execution_count": 19,
   "metadata": {
    "collapsed": true
   },
   "outputs": [],
   "source": [
    "# Reshaping input image data \n",
    "train_shape = train_images.shape\n",
    "test_shape = test_images.shape\n",
    "train_images = train_images.reshape((train_shape[0], np.prod(train_shape[1:])))\n",
    "test_images = test_images.reshape((test_shape[0], np.prod(train_shape[1:])))"
   ]
  },
  {
   "cell_type": "code",
   "execution_count": 20,
   "metadata": {
    "collapsed": true
   },
   "outputs": [],
   "source": [
    "# Scaling input data\n",
    "train_images = train_images.astype(np.float32)/255\n",
    "test_images = test_images.astype(np.float32)/255"
   ]
  },
  {
   "cell_type": "code",
   "execution_count": 21,
   "metadata": {
    "collapsed": true
   },
   "outputs": [],
   "source": [
    "# Categorical encoding of the labels\n",
    "train_labels = to_categorical(train_labels)\n",
    "test_labels = to_categorical(test_labels)"
   ]
  },
  {
   "cell_type": "markdown",
   "metadata": {},
   "source": [
    "### Build the neural network \n",
    "* Core building block of  network is \"layer\" which is data-processing module. Layers extract representations out of the data fed into them, hopefully more meaningfull representations for the problem at hand\n",
    "* Deep Learning is more or less chaining together these simple layers, that will kind of form a progressive data distillation.\n",
    "* Below network consists of 2 Dense (fully connected) neural layers. Last layer is a 10-way softmax layer, which will return an array of 10 probability scores summing to 1."
   ]
  },
  {
   "cell_type": "code",
   "execution_count": 11,
   "metadata": {
    "collapsed": true
   },
   "outputs": [],
   "source": [
    "network = models.Sequential()\n",
    "network.add(layers.Dense(512, activation=\"relu\", input_shape=(28*28, )))\n",
    "network.add(layers.Dense(10, activation=\"softmax\"))"
   ]
  },
  {
   "cell_type": "markdown",
   "metadata": {},
   "source": [
    "### Network Compilation \n",
    "To make network ready for training it requires 3 more things to be configured as part of Compilation step\n",
    "1. Loss Function : To measure network performance on training data and to steer itself in right direction\n",
    "2. Optimizer : Mechanism through which netwrok will update itself based on input data & loss function\n",
    "3. Metrics to monitor during training & testing : Based on the kind of problem the metrics differ. Example for Classification -> Accuracy & for Regression -> RMSE  "
   ]
  },
  {
   "cell_type": "code",
   "execution_count": 24,
   "metadata": {
    "collapsed": true
   },
   "outputs": [],
   "source": [
    "network.compile(loss = \"categorical_crossentropy\", optimizer=\"rmsprop\", metrics=['accuracy'])"
   ]
  },
  {
   "cell_type": "markdown",
   "metadata": {},
   "source": [
    "### Training the network\n",
    "In Keras, network training is done via call to networks's fit method -> fit the model to its train data"
   ]
  },
  {
   "cell_type": "code",
   "execution_count": 26,
   "metadata": {},
   "outputs": [
    {
     "name": "stdout",
     "output_type": "stream",
     "text": [
      "Epoch 1/5\n",
      "60000/60000 [==============================] - 5s 88us/step - loss: 0.0287 - acc: 0.9916\n",
      "Epoch 2/5\n",
      "60000/60000 [==============================] - 5s 90us/step - loss: 0.0225 - acc: 0.9936\n",
      "Epoch 3/5\n",
      "60000/60000 [==============================] - 5s 88us/step - loss: 0.0172 - acc: 0.9949\n",
      "Epoch 4/5\n",
      "60000/60000 [==============================] - 6s 94us/step - loss: 0.0140 - acc: 0.9959\n",
      "Epoch 5/5\n",
      "60000/60000 [==============================] - 6s 92us/step - loss: 0.0109 - acc: 0.9969\n"
     ]
    },
    {
     "data": {
      "text/plain": [
       "<keras.callbacks.History at 0x2295febdb38>"
      ]
     },
     "execution_count": 26,
     "metadata": {},
     "output_type": "execute_result"
    }
   ],
   "source": [
    "network.fit(train_images, train_labels, epochs=5, batch_size=128)"
   ]
  },
  {
   "cell_type": "markdown",
   "metadata": {},
   "source": [
    "### Evaluate model performance on test data"
   ]
  },
  {
   "cell_type": "code",
   "execution_count": 30,
   "metadata": {},
   "outputs": [
    {
     "name": "stdout",
     "output_type": "stream",
     "text": [
      "10000/10000 [==============================] - 1s 59us/step\n",
      "Test Accuracy : 0.9819\n"
     ]
    }
   ],
   "source": [
    "test_loss, test_accuracy = network.evaluate(test_images, test_labels)\n",
    "print(\"Test Accuracy :\", test_accuracy)"
   ]
  }
 ],
 "metadata": {
  "kernelspec": {
   "display_name": "Python 3",
   "language": "python",
   "name": "python3"
  },
  "language_info": {
   "codemirror_mode": {
    "name": "ipython",
    "version": 3
   },
   "file_extension": ".py",
   "mimetype": "text/x-python",
   "name": "python",
   "nbconvert_exporter": "python",
   "pygments_lexer": "ipython3",
   "version": "3.6.3"
  }
 },
 "nbformat": 4,
 "nbformat_minor": 2
}
